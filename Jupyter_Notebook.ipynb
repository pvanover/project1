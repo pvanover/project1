{"cells":[{"cell_type":"markdown","metadata":{},"source":["<center>\n","    <img src=\"https://s3-api.us-geo.objectstorage.softlayer.net/cf-courses-data/CognitiveClass/Logos/organization_logo/organization_logo.png\" width=\"300\" alt=\"cognitiveclass.ai logo\"  />\n","</center>\n"]},{"cell_type":"markdown","metadata":{},"source":["#### Add your code below following the instructions given in the course\n"]},{"cell_type":"code","execution_count":null,"metadata":{},"outputs":[],"source":[]}],"metadata":{"kernelspec":{"display_name":"Python 3","language":"python","name":"python3"},"language_info":{"codemirror_mode":{"name":"ipython","version":3},"file_extension":".py","mimetype":"text/x-python","name":"python","nbconvert_exporter":"python","pygments_lexer":"ipython3","version":"3.7.6"}},"nbformat":4,"nbformat_minor":4}
#My Jupyter Notebook on IBM Watson Studio
__Paige Vanover__  student
*I am interested in data science because it is a versatile field with applications in every industry*
### My code is supposed to add 2 and 2 together
print(2+2)
- here is a bulleted list - here is another bullet >here is a paragraph 1. this is a numbered items list 2. here is another list item
